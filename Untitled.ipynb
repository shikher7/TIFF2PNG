{
 "cells": [
  {
   "cell_type": "code",
   "execution_count": 33,
   "id": "046c198f",
   "metadata": {},
   "outputs": [
    {
     "name": "stdout",
     "output_type": "stream",
     "text": [
      "TIFF1.tif: frame no - 0\n",
      "C:\\Users\\shikh\\Untitled Folder\\TIFF\\Output\\TIFF1_0.png\n",
      "TIFF2.tif: frame no - 0\n",
      "C:\\Users\\shikh\\Untitled Folder\\TIFF\\Output\\TIFF2_0.png\n",
      "TIFF2.tif: frame no - 1\n",
      "C:\\Users\\shikh\\Untitled Folder\\TIFF\\Output\\TIFF2_1.png\n",
      "TIFF3.tif: frame no - 0\n",
      "C:\\Users\\shikh\\Untitled Folder\\TIFF\\Output\\TIFF3_0.png\n",
      "TIFF3.tif: frame no - 1\n",
      "C:\\Users\\shikh\\Untitled Folder\\TIFF\\Output\\TIFF3_1.png\n",
      "TIFF3.tif: frame no - 2\n",
      "C:\\Users\\shikh\\Untitled Folder\\TIFF\\Output\\TIFF3_2.png\n",
      "TIFF4.tif: frame no - 0\n",
      "C:\\Users\\shikh\\Untitled Folder\\TIFF\\Output\\TIFF4_0.png\n",
      "TIFF4.tif: frame no - 1\n",
      "C:\\Users\\shikh\\Untitled Folder\\TIFF\\Output\\TIFF4_1.png\n",
      "TIFF4.tif: frame no - 2\n",
      "C:\\Users\\shikh\\Untitled Folder\\TIFF\\Output\\TIFF4_2.png\n"
     ]
    }
   ],
   "source": [
    "from PIL import Image\n",
    "import numpy\n",
    "import os\n",
    "\n",
    "\n",
    "## Enter the Folder path\n",
    "\n",
    "which contains all the tiff files\n",
    "input_tiffs_dir_path = \"C:\\\\Users\\\\shikh\\\\Untitled Folder\\\\TIFF\"\n",
    "## Enter the Folder path for Output PNG's\n",
    "input_png_dir_path = \"C:\\\\Users\\\\shikh\\\\Untitled Folder\\\\TIFF\\\\Output\"\n",
    "\n",
    "for filename in os.listdir(input_tiffs_dir_path):\n",
    "    if filename.endswith(\".TIF\")or filename.endswith(\".tif\"):\n",
    "        img = Image.open(input_tiffs_dir_path+\"\\\\\"+filename)\n",
    "        count = 0\n",
    "        while True:\n",
    "            try:\n",
    "                img.seek(count)\n",
    "#                 img.show()\n",
    "                print(filename + \": frame no - \"+str(count))\n",
    "                print(input_png_dir_path+\"\\\\\"+filename[:-4]+\"_\"+str(count)+\".png\")\n",
    "                img.save(input_png_dir_path+\"\\\\\"+filename[:-4]+\"_\"+str(count)+\".png\")\n",
    "                count += 1    \n",
    "            except:\n",
    "                break       \n"
   ]
  },
  {
   "cell_type": "code",
   "execution_count": null,
   "id": "96e535a9",
   "metadata": {},
   "outputs": [],
   "source": []
  }
 ],
 "metadata": {
  "kernelspec": {
   "display_name": "Python 3",
   "language": "python",
   "name": "python3"
  },
  "language_info": {
   "codemirror_mode": {
    "name": "ipython",
    "version": 3
   },
   "file_extension": ".py",
   "mimetype": "text/x-python",
   "name": "python",
   "nbconvert_exporter": "python",
   "pygments_lexer": "ipython3",
   "version": "3.8.8"
  }
 },
 "nbformat": 4,
 "nbformat_minor": 5
}
